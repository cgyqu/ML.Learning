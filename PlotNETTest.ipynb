{
 "cells": [
  {
   "cell_type": "code",
   "execution_count": null,
   "metadata": {},
   "outputs": [
    {
     "data": {
      "text/html": [
       "Installing package PlotNET, version 0.1.7................................................"
      ]
     },
     "metadata": {},
     "output_type": "display_data"
    }
   ],
   "source": [
    "#r \"nuget: PlotNET, 0.1.7\"\n",
    "using PlotNET;\n",
    "using XPlot.Plotly;"
   ]
  },
  {
   "cell_type": "code",
   "execution_count": null,
   "metadata": {},
   "outputs": [],
   "source": [
    "var plotter = new Plotter();\n",
    "plotter.Plot(\n",
    "  new [] { \"giraffes\", \"orangutans\", \"monkeys\" },\n",
    "  new [] { 20, 14, 23 },\n",
    "  \"Animals\", ChartType.Bar);\n",
    "plotter.Show(500, 300);"
   ]
  },
  {
   "cell_type": "code",
   "execution_count": null,
   "metadata": {},
   "outputs": [],
   "source": [
    "var openSeries = new Graph.Scatter\n",
    "{\n",
    "    name = \"Open\",\n",
    "    x = new[] {1, 2, 3, 4},\n",
    "    y = new[] {10, 15, 13, 17},\n",
    "    fill = \"tozeroy\",\n",
    "    mode= \"lines\"\n",
    "};\n",
    "\n",
    "var closeSeries = new Graph.Scatter\n",
    "{\n",
    "    name = \"Close\",\n",
    "    x = new[] {1, 2, 3, 4},\n",
    "    y = new[] {3, 5, 11, 9},\n",
    "    fill = \"tozeroy\",\n",
    "    mode= \"lines\"\n",
    "};\n",
    "\n",
    "var chart = Chart.Plot(new[] {openSeries, closeSeries});\n",
    "chart.WithTitle(\"Open vs Close\");\n",
    "display(chart);"
   ]
  },
  {
   "cell_type": "code",
   "execution_count": null,
   "metadata": {},
   "outputs": [],
   "source": []
  }
 ],
 "metadata": {
  "kernelspec": {
   "display_name": ".NET (C#)",
   "language": "C#",
   "name": ".net-csharp"
  },
  "language_info": {
   "file_extension": ".cs",
   "mimetype": "text/x-csharp",
   "name": "C#",
   "pygments_lexer": "csharp",
   "version": "8.0"
  }
 },
 "nbformat": 4,
 "nbformat_minor": 4
}
