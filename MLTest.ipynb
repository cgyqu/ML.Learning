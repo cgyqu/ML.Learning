{
 "cells": [
  {
   "cell_type": "code",
   "execution_count": null,
   "metadata": {},
   "outputs": [
    {
     "data": {
      "text/html": [
       "Installing package PlotNET, version 0.1.7......................................................................................"
      ]
     },
     "metadata": {},
     "output_type": "display_data"
    }
   ],
   "source": [
    "#r \"nuget: PlotNET, 0.1.7\"\n",
    "\n",
    "using XPlot.Plotly;\n",
    "using PlotNET;\n",
    "using System;\n",
    "using System.IO;"
   ]
  },
  {
   "cell_type": "code",
   "execution_count": null,
   "metadata": {},
   "outputs": [],
   "source": [
    "var datas = File.ReadAllLines(\"livechat_pv_test.txt\");\n",
    "var data_x = new string[datas.Length - 1];\n",
    "var data_y = new int[datas.Length - 1];\n",
    "for (int i = 1; i < datas.Length; i++)\n",
    "{\n",
    "    data_x[i - 1] = datas[i].Split(',')[0];\n",
    "    data_y[i - 1] = int.Parse(datas[i].Split(',')[1]);\n",
    "}"
   ]
  },
  {
   "cell_type": "code",
   "execution_count": null,
   "metadata": {},
   "outputs": [],
   "source": [
    " // NDArray train_x = new NDArray(data_x);\n",
    " // NDArray train_y= new NDArray(data_y);\n",
    " var plotter = new Plotter();\n",
    " plotter.Plot(data_x,data_y,\"Original data\", ChartType.Scatter, \"markers\");\n",
    " plotter.Show();"
   ]
  },
  {
   "cell_type": "code",
   "execution_count": null,
   "metadata": {},
   "outputs": [],
   "source": [
    "var openSeries = new Graph.Scatter\n",
    "{\n",
    "    name = \"Open\",\n",
    "    x = data_x,\n",
    "    y = data_y,\n",
    "    fill = \"tozeroy\",\n",
    "    mode= \"lines\"\n",
    "};\n",
    "var chart = Chart.Plot(new[] {openSeries});\n",
    "chart.WithTitle(\"Pv Trend\");\n",
    "display(chart);"
   ]
  },
  {
   "cell_type": "code",
   "execution_count": null,
   "metadata": {},
   "outputs": [],
   "source": []
  },
  {
   "cell_type": "code",
   "execution_count": null,
   "metadata": {},
   "outputs": [],
   "source": []
  }
 ],
 "metadata": {
  "kernelspec": {
   "display_name": ".NET (C#)",
   "language": "C#",
   "name": ".net-csharp"
  },
  "language_info": {
   "file_extension": ".cs",
   "mimetype": "text/x-csharp",
   "name": "C#",
   "pygments_lexer": "csharp",
   "version": "8.0"
  }
 },
 "nbformat": 4,
 "nbformat_minor": 4
}
