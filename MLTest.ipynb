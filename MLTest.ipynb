{
 "cells": [
  {
   "cell_type": "code",
   "execution_count": 1,
   "metadata": {},
   "outputs": [
    {
     "data": {
      "text/html": [
       "Installing package TensorFlow.NET.............................................................................................................................done!"
      ]
     },
     "metadata": {},
     "output_type": "display_data"
    },
    {
     "data": {
      "text/html": [
       "Successfully added reference to package TensorFlow.NET, version "
      ]
     },
     "metadata": {},
     "output_type": "display_data"
    },
    {
     "data": {
      "text/html": [
       "Installing package SciSharp.TensorFlow.Redist...........done!"
      ]
     },
     "metadata": {},
     "output_type": "display_data"
    },
    {
     "data": {
      "text/html": [
       "Successfully added reference to package SciSharp.TensorFlow.Redist, version "
      ]
     },
     "metadata": {},
     "output_type": "display_data"
    }
   ],
   "source": [
    "#r \"nuget:TensorFlow.NET\"\n",
    "#r \"nuget:SciSharp.TensorFlow.Redist\""
   ]
  },
  {
   "cell_type": "code",
   "execution_count": 2,
   "metadata": {},
   "outputs": [],
   "source": [
    "using Tensorflow;\n",
    "using static Tensorflow.Binding;"
   ]
  },
  {
   "cell_type": "code",
   "execution_count": 5,
   "metadata": {},
   "outputs": [
    {
     "ename": "Unhandled Exception",
     "evalue": "The type initializer for 'Tensorflow.Binding' threw an exception.",
     "output_type": "error",
     "traceback": [
      "Unhandled Exception",
      "The type initializer for 'Tensorflow.Binding' threw an exception.",
      "   at Tensorflow.Binding.get_tf()",
      "   at Submission#5.<<Initialize>>d__0.MoveNext()",
      "--- End of stack trace from previous location where exception was thrown ---",
      "   at Microsoft.CodeAnalysis.Scripting.ScriptExecutionState.RunSubmissionsAsync[TResult](ImmutableArray`1 precedingExecutors, Func`2 currentExecutor, StrongBox`1 exceptionHolderOpt, Func`2 catchExceptionOpt, CancellationToken cancellationToken)"
     ]
    }
   ],
   "source": [
    " var hello = tf.constant(\"Hello, TensorFlow!\");\n",
    "\n",
    " // Start tf session\n",
    " using (var sess = tf.Session())\n",
    " {\n",
    "     // Run the op\n",
    "     var result = sess.run(hello);\n",
    "     //Console.WriteLine(result);\n",
    "     print(result);\n",
    " }"
   ]
  },
  {
   "cell_type": "code",
   "execution_count": 6,
   "metadata": {},
   "outputs": [
    {
     "ename": "Unhandled Exception",
     "evalue": "Value cannot be null. (Parameter 'libraryPath')",
     "output_type": "error",
     "traceback": [
      "Unhandled Exception",
      "Value cannot be null. (Parameter 'libraryPath')",
      "   at System.Runtime.InteropServices.NativeLibrary.Load(String libraryPath)",
      "   at MLS.Agent.NativeAssemblyLoadHelper.Resolve(String libraryName, Assembly assembly, Nullable`1 searchPath) in F:\\workspace\\_work\\1\\s\\MLS.Agent\\NativeAssemblyLoadHelper.cs:line 47",
      "   at System.Runtime.InteropServices.NativeLibrary.LoadLibraryCallbackStub(String libraryName, Assembly assembly, Boolean hasDllImportSearchPathFlags, UInt32 dllImportSearchPathFlags)",
      "   at Tensorflow.c_api.TF_AllocateTensor(TF_DataType dtype, Int64[] dims, Int32 num_dims, UIntPtr len)",
      "   at Tensorflow.Tensor..ctor(Int32 value, Nullable`1 dType)",
      "   at Submission#6.<<Initialize>>d__0.MoveNext()",
      "--- End of stack trace from previous location where exception was thrown ---",
      "   at Microsoft.CodeAnalysis.Scripting.ScriptExecutionState.RunSubmissionsAsync[TResult](ImmutableArray`1 precedingExecutors, Func`2 currentExecutor, StrongBox`1 exceptionHolderOpt, Func`2 catchExceptionOpt, CancellationToken cancellationToken)"
     ]
    }
   ],
   "source": [
    "using NumSharp;\n",
    "// Create a tensor holds a scalar value\n",
    "var t1 = new Tensor(3);\n",
    "\n",
    "// Init from a string\n",
    "var t2 = new Tensor(\"Hello! TensorFlow.NET\");\n",
    "\n",
    "// Tensor holds a ndarray\n",
    "var nd = new NDArray(new int[]{3, 1, 1, 2});\n",
    "var t3 = new Tensor(nd);\n",
    "\n",
    "Console.WriteLine($\"t1: {t1}, t2: {t2}, t3: {t3}\");"
   ]
  },
  {
   "cell_type": "code",
   "execution_count": null,
   "metadata": {},
   "outputs": [],
   "source": []
  }
 ],
 "metadata": {
  "kernelspec": {
   "display_name": ".NET (C#)",
   "language": "C#",
   "name": ".net-csharp"
  },
  "language_info": {
   "file_extension": ".cs",
   "mimetype": "text/x-csharp",
   "name": "C#",
   "pygments_lexer": "csharp",
   "version": "8.0"
  }
 },
 "nbformat": 4,
 "nbformat_minor": 4
}
