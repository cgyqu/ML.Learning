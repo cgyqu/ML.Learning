{
 "cells": [
  {
   "cell_type": "code",
   "execution_count": null,
   "metadata": {
    "scrolled": true
   },
   "outputs": [],
   "source": [
    "#r \"nuget: Microsoft.ML, 1.4.0\"\n",
    "#r \"nuget:  Microsoft.ML.FastTree, 1.4.0\"\n",
    "   \n",
    "using Microsoft.ML.Data;\n",
    "using System; \n",
    "using Microsoft.ML;"
   ]
  },
  {
   "cell_type": "code",
   "execution_count": null,
   "metadata": {},
   "outputs": [],
   "source": [
    "string TRAIN_DATA_FILEPATH =  \"livechat_pv_train.txt\";\n",
    "string MODEL_FILEPATH = \"PVModel.zip\";\n",
    "MLContext mlContext = new MLContext(seed: 1);"
   ]
  },
  {
   "cell_type": "code",
   "execution_count": null,
   "metadata": {},
   "outputs": [],
   "source": [
    "public class ModelInput\n",
    "{\n",
    "    [ColumnName(\"create_time\"), LoadColumn(0)]\n",
    "    public String Create_time { get; set; }\n",
    "\n",
    "\n",
    "    [ColumnName(\"pv\"), LoadColumn(1)]\n",
    "    public float Pv { get; set; }\n",
    "}"
   ]
  },
  {
   "cell_type": "code",
   "execution_count": null,
   "metadata": {},
   "outputs": [],
   "source": [
    "public class ModelOutput\n",
    "{\n",
    "    public float Score { get; set; }\n",
    "}"
   ]
  },
  {
   "cell_type": "code",
   "execution_count": null,
   "metadata": {},
   "outputs": [],
   "source": [
    "public IEstimator<ITransformer> BuildTrainingPipeline(MLContext mlContext)\n",
    "{\n",
    "    // Data process configuration with pipeline data transformations \n",
    "    //var dataProcessPipeline = mlContext.Transforms.Text.FeaturizeText(\"create_time_tf\", \"create_time\")\n",
    "    var dataProcessPipeline = mlContext.Transforms.Text.FeaturizeText(\"create_time_tf\", \"create_time\")\n",
    "                              .Append(mlContext.Transforms.CopyColumns(\"Features\", \"create_time_tf\"));\n",
    "\n",
    "    // Set the training algorithm \n",
    "    var trainer = mlContext.Regression.Trainers.FastTreeTweedie(labelColumnName: \"pv\", featureColumnName: \"Features\");\n",
    "    var trainingPipeline = dataProcessPipeline.Append(trainer);\n",
    "\n",
    "    return trainingPipeline;\n",
    "}"
   ]
  },
  {
   "cell_type": "code",
   "execution_count": null,
   "metadata": {},
   "outputs": [],
   "source": [
    "public ITransformer TrainModel(MLContext mlContext, IDataView trainingDataView, IEstimator<ITransformer> trainingPipeline)\n",
    "{\n",
    "    Console.WriteLine(\"=============== Training  model ===============\");\n",
    "\n",
    "    ITransformer model = trainingPipeline.Fit(trainingDataView);\n",
    "\n",
    "    Console.WriteLine(\"=============== End of training process ===============\");\n",
    "    return model;\n",
    "}"
   ]
  },
  {
   "cell_type": "code",
   "execution_count": null,
   "metadata": {},
   "outputs": [],
   "source": [
    " public void CreateModel()\n",
    " {\n",
    "     // Load Data\n",
    "     IDataView trainingDataView = mlContext.Data.LoadFromTextFile<ModelInput>(\n",
    "                                     path: TRAIN_DATA_FILEPATH,\n",
    "                                     hasHeader: true,\n",
    "                                     separatorChar: ',',\n",
    "                                     allowQuoting: true,\n",
    "                                     allowSparse: false);\n",
    "\n",
    "     // Build training pipeline\n",
    "     IEstimator<ITransformer> trainingPipeline = BuildTrainingPipeline(mlContext);\n",
    "\n",
    "     // Evaluate quality of Model\n",
    "     // Evaluate(mlContext, trainingDataView, trainingPipeline);\n",
    "\n",
    "     // Train Model\n",
    "     ITransformer mlModel = TrainModel(mlContext, trainingDataView, trainingPipeline);\n",
    "\n",
    "     // Save model\n",
    "     SaveModel(mlContext, mlModel, MODEL_FILEPATH, trainingDataView.Schema);\n",
    " }\n",
    "private  void SaveModel(MLContext mlContext, ITransformer mlModel, string modelRelativePath, DataViewSchema modelInputSchema)\n",
    "{\n",
    "        // Save/persist the trained model to a .ZIP file\n",
    "        Console.WriteLine($\"=============== Saving the model  ===============\");\n",
    "        mlContext.Model.Save(mlModel, modelInputSchema,MODEL_FILEPATH);\n",
    "        Console.WriteLine(\"The model is saved to {0}\",MODEL_FILEPATH);\n",
    "}"
   ]
  },
  {
   "cell_type": "code",
   "execution_count": null,
   "metadata": {},
   "outputs": [],
   "source": [
    "CreateModel();"
   ]
  },
  {
   "cell_type": "code",
   "execution_count": null,
   "metadata": {},
   "outputs": [],
   "source": [
    "string DATA_FILEPATH = \"livechat_pv_test.txt\";"
   ]
  },
  {
   "cell_type": "code",
   "execution_count": null,
   "metadata": {},
   "outputs": [],
   "source": [
    "private  ModelInput CreateSingleDataSample(string dataFilePath)\n",
    "{\n",
    "    // Create MLContext\n",
    "    MLContext mlContext = new MLContext();\n",
    "\n",
    "    // Load dataset\n",
    "    IDataView dataView = mlContext.Data.LoadFromTextFile<ModelInput>(\n",
    "                                    path: dataFilePath,\n",
    "                                    hasHeader: true,\n",
    "                                    separatorChar: ',',\n",
    "                                    allowQuoting: true,\n",
    "                                    allowSparse: false);\n",
    "    ModelInput sampleForPrediction = new ModelInput()\n",
    "    {\n",
    "        Create_time = new DateTime(2019,10,30).ToString(\"yyyy-MM-dd\"),\n",
    "        Pv = 2661\n",
    "    };\n",
    "    // Use first line of dataset as model input\n",
    "    // You can replace this with new test data (hardcoded or from end-user application)\n",
    "   // ModelInput sampleForPrediction = mlContext.Data.CreateEnumerable<ModelInput>(dataView, false)\n",
    "    //                                                       .First();\n",
    "    return sampleForPrediction;\n",
    "}"
   ]
  },
  {
   "cell_type": "code",
   "execution_count": null,
   "metadata": {},
   "outputs": [],
   "source": [
    "public  ModelOutput Predict(ModelInput input)\n",
    "{\n",
    "\n",
    "    // Create new MLContext\n",
    "    MLContext mlContext = new MLContext();\n",
    "\n",
    "    // Load model & create prediction engine\n",
    "    string modelPath = \"PVModel.zip\";\n",
    "    ITransformer mlModel = mlContext.Model.Load(modelPath, out var modelInputSchema);\n",
    "    var predEngine = mlContext.Model.CreatePredictionEngine<ModelInput, ModelOutput>(mlModel);\n",
    "\n",
    "    // Use model to make prediction on input data\n",
    "    ModelOutput result = predEngine.Predict(input);\n",
    "    return result;\n",
    "}"
   ]
  },
  {
   "cell_type": "code",
   "execution_count": null,
   "metadata": {},
   "outputs": [],
   "source": [
    "ModelInput sampleData = CreateSingleDataSample(DATA_FILEPATH);\n",
    "\n",
    "// Make a single prediction on the sample data and print results\n",
    "ModelOutput predictionResult = Predict(sampleData);\n",
    "\n",
    "Console.WriteLine(\"Using model to make single prediction -- Comparing actual Pv with predicted Pv from sample data...\\n\\n\");\n",
    "Console.WriteLine($\"create_time: {sampleData.Create_time}\");\n",
    "Console.WriteLine($\"\\n\\nActual Pv: {sampleData.Pv} \\nPredicted Pv: {predictionResult.Score}\\n\\n\");\n",
    "Console.WriteLine(\"=============== End of process, hit any key to finish ===============\");\n"
   ]
  },
  {
   "cell_type": "code",
   "execution_count": null,
   "metadata": {},
   "outputs": [],
   "source": []
  },
  {
   "cell_type": "code",
   "execution_count": null,
   "metadata": {},
   "outputs": [],
   "source": [
    "Console.WriteLine(\"test\");"
   ]
  },
  {
   "cell_type": "code",
   "execution_count": null,
   "metadata": {},
   "outputs": [],
   "source": []
  }
 ],
 "metadata": {
  "kernelspec": {
   "display_name": ".NET (C#)",
   "language": "C#",
   "name": ".net-csharp"
  },
  "language_info": {
   "file_extension": ".cs",
   "mimetype": "text/x-csharp",
   "name": "C#",
   "pygments_lexer": "csharp",
   "version": "8.0"
  }
 },
 "nbformat": 4,
 "nbformat_minor": 4
}
