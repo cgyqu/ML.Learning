{
 "cells": [
  {
   "cell_type": "code",
   "execution_count": null,
   "metadata": {},
   "outputs": [],
   "source": [
    "#r \"nuget:PlotNET\"\n",
    "#r \"nuget:Keras.NET\""
   ]
  },
  {
   "cell_type": "code",
   "execution_count": null,
   "metadata": {},
   "outputs": [],
   "source": [
    "int batch_size = 128;\n",
    "int num_classes = 10;\n",
    "int epochs = 12;\n",
    "\n",
    "// input image dimensions\n",
    "int img_rows = 28, img_cols = 28;\n",
    "\n",
    "Shape input_shape = null;\n",
    "\n",
    "// the data, split between train and test sets\n",
    "var ((x_train, y_train), (x_test, y_test)) = MNIST.LoadData();\n",
    "\n",
    "if(Backend.ImageDataFormat() == \"channels_first\")\n",
    "{\n",
    "    x_train = x_train.reshape(x_train.shape[0], 1, img_rows, img_cols);\n",
    "    x_test = x_test.reshape(x_test.shape[0], 1, img_rows, img_cols);\n",
    "    input_shape = (1, img_rows, img_cols);\n",
    "}\n",
    "else\n",
    "{\n",
    "    x_train = x_train.reshape(x_train.shape[0], img_rows, img_cols, 1);\n",
    "    x_test = x_test.reshape(x_test.shape[0], img_rows, img_cols, 1);\n",
    "    input_shape = (img_rows, img_cols, 1);\n",
    "}\n",
    "\n",
    "x_train = x_train.astype(np.float32);\n",
    "x_test = x_test.astype(np.float32);\n",
    "x_train /= 255;\n",
    "x_test /= 255;\n",
    "Console.WriteLine($\"x_train shape: {x_train.shape}\");\n",
    "Console.WriteLine($\"{x_train.shape[0]} train samples\");\n",
    "Console.WriteLine($\"{x_test.shape[0]} test samples\");\n",
    "\n",
    "// convert class vectors to binary class matrices\n",
    "y_train = Util.ToCategorical(y_train, num_classes);\n",
    "y_test = Util.ToCategorical(y_test, num_classes);\n",
    "\n",
    "// Build CNN model\n",
    "var model = new Sequential();\n",
    "model.Add(new Conv2D(32, kernel_size: (3, 3).ToTuple(),\n",
    "                        activation: \"relu\",\n",
    "                        input_shape: input_shape));\n",
    "model.Add(new Conv2D(64, (3, 3).ToTuple(), activation: \"relu\"));\n",
    "model.Add(new MaxPooling2D(pool_size: (2, 2).ToTuple()));\n",
    "model.Add(new Dropout(0.25));\n",
    "model.Add(new Flatten());\n",
    "model.Add(new Dense(128, activation: \"relu\"));\n",
    "model.Add(new Dropout(0.5));\n",
    "model.Add(new Dense(num_classes, activation: \"softmax\"));\n",
    "\n",
    "model.Compile(loss: \"categorical_crossentropy\",\n",
    "    optimizer: new Adadelta(), metrics: new string[] { \"accuracy\" });\n",
    "\n",
    "model.Fit(x_train, y_train,\n",
    "            batch_size: batch_size,\n",
    "            epochs: epochs,\n",
    "            verbose: 1,\n",
    "            validation_data: new NDarray[] { x_test, y_test });\n",
    "var score = model.Evaluate(x_test, y_test, verbose: 0);\n",
    "Console.WriteLine($\"Test loss: {score[0]}\");\n",
    "Console.WriteLine($\"Test accuracy: {score[1]}\");"
   ]
  },
  {
   "cell_type": "code",
   "execution_count": null,
   "metadata": {},
   "outputs": [],
   "source": []
  }
 ],
 "metadata": {
  "kernelspec": {
   "display_name": ".NET (C#)",
   "language": "C#",
   "name": ".net-csharp"
  },
  "language_info": {
   "file_extension": ".cs",
   "mimetype": "text/x-csharp",
   "name": "C#",
   "pygments_lexer": "csharp",
   "version": "8.0"
  }
 },
 "nbformat": 4,
 "nbformat_minor": 4
}
