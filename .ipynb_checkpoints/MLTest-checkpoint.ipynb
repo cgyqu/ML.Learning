{
 "cells": [
  {
   "cell_type": "code",
   "execution_count": null,
   "metadata": {},
   "outputs": [],
   "source": [
    "#r \"nuget: PlotNET, 0.1.7\"\n",
    "\n",
    "using XPlot.Plotly;\n",
    "using PlotNET;\n",
    "using System;\n",
    "using System.IO;"
   ]
  },
  {
   "cell_type": "code",
   "execution_count": null,
   "metadata": {},
   "outputs": [],
   "source": [
    "var datas = File.ReadAllLines(\"livechat_pv_test.txt\");\n",
    "var data_x = new string[datas.Length - 1];\n",
    "var data_y = new int[datas.Length - 1];\n",
    "for (int i = 1; i < datas.Length; i++)\n",
    "{\n",
    "    data_x[i - 1] = datas[i].Split(',')[0];\n",
    "    data_y[i - 1] = int.Parse(datas[i].Split(',')[1]);\n",
    "}"
   ]
  },
  {
   "cell_type": "code",
   "execution_count": 3,
   "metadata": {},
   "outputs": [],
   "source": [
    " // NDArray train_x = new NDArray(data_x);\n",
    " // NDArray train_y= new NDArray(data_y);\n",
    " var plotter = new Plotter();\n",
    " plotter.Plot(data_x,data_y,\"Original data\", ChartType.Scatter, \"markers\");\n",
    " plotter.Show();"
   ]
  },
  {
   "cell_type": "code",
   "execution_count": 4,
   "metadata": {},
   "outputs": [
    {
     "data": {
      "text/html": [
       "<div id=\"666f3f83-0dfc-4cb0-9852-7ffbed951820\" style=\"width: 900px; height: 500px;\"></div><script type=\"text/javascript\">\r\n",
       "\r\n",
       "var renderPlotly = function() {\r\n",
       "    var xplotRequire = requirejs.config({context:'xplot-2.0.0',paths:{plotly:'https://cdn.plot.ly/plotly-1.49.2.min'}});\r\n",
       "    xplotRequire(['plotly'], function(Plotly) {\r\n",
       "\n",
       "            var data = [{\"type\":\"scatter\",\"x\":[\"2019-10-28\",\"2019-10-29\",\"2019-10-27\",\"2019-10-26\",\"2019-10-25\",\"2019-10-24\",\"2019-10-23\",\"2019-10-22\",\"2019-10-21\",\"2019-10-20\",\"2019-10-19\",\"2019-10-18\",\"2019-10-17\",\"2019-10-16\",\"2019-10-15\",\"2019-10-14\",\"2019-10-13\",\"2019-10-12\",\"2019-10-11\",\"2019-10-10\",\"2019-10-09\",\"2019-10-08\",\"2019-10-07\",\"2019-10-06\",\"2019-10-05\",\"2019-10-04\",\"2019-10-03\",\"2019-10-02\",\"2019-10-01\"],\"y\":[2887,2695,1928,1956,2544,2717,2843,2727,2853,1951,2195,2569,2547,2671,2522,3155,1922,2502,2607,2697,2794,2549,2052,1852,5922,1833,2163,2496,2522],\"mode\":\"lines\",\"fill\":\"tozeroy\",\"name\":\"Open\"}];\n",
       "            var layout = {\"title\":\"Pv Trend\"};\n",
       "            Plotly.newPlot('666f3f83-0dfc-4cb0-9852-7ffbed951820', data, layout);\n",
       "        });\r\n",
       "};\r\n",
       "if ((typeof(requirejs) !==  typeof(Function)) || (typeof(requirejs.config) !== typeof(Function))) { \r\n",
       "    var script = document.createElement(\"script\"); \r\n",
       "    script.setAttribute(\"src\", \"https://cdnjs.cloudflare.com/ajax/libs/require.js/2.3.6/require.min.js\"); \r\n",
       "    script.onload = function(){\r\n",
       "        renderPlotly();\r\n",
       "    };\r\n",
       "    document.getElementsByTagName(\"head\")[0].appendChild(script); \r\n",
       "}\r\n",
       "else {\r\n",
       "    renderPlotly();\r\n",
       "}\r\n",
       "</script>"
      ]
     },
     "metadata": {},
     "output_type": "display_data"
    }
   ],
   "source": [
    "var openSeries = new Graph.Scatter\n",
    "{\n",
    "    name = \"Open\",\n",
    "    x = data_x,\n",
    "    y = data_y,\n",
    "    fill = \"tozeroy\",\n",
    "    mode= \"lines\"\n",
    "};\n",
    "var chart = Chart.Plot(new[] {openSeries});\n",
    "chart.WithTitle(\"Pv Trend\");\n",
    "display(chart);"
   ]
  },
  {
   "cell_type": "code",
   "execution_count": null,
   "metadata": {},
   "outputs": [],
   "source": []
  }
 ],
 "metadata": {
  "kernelspec": {
   "display_name": ".NET (C#)",
   "language": "C#",
   "name": ".net-csharp"
  },
  "language_info": {
   "file_extension": ".cs",
   "mimetype": "text/x-csharp",
   "name": "C#",
   "pygments_lexer": "csharp",
   "version": "8.0"
  }
 },
 "nbformat": 4,
 "nbformat_minor": 4
}
